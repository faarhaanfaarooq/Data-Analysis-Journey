{
  "nbformat": 4,
  "nbformat_minor": 0,
  "metadata": {
    "colab": {
      "provenance": [],
      "authorship_tag": "ABX9TyPoOzoSalTumQ0GroyL41U3",
      "include_colab_link": true
    },
    "kernelspec": {
      "name": "python3",
      "display_name": "Python 3"
    },
    "language_info": {
      "name": "python"
    }
  },
  "cells": [
    {
      "cell_type": "markdown",
      "metadata": {
        "id": "view-in-github",
        "colab_type": "text"
      },
      "source": [
        "<a href=\"https://colab.research.google.com/github/farhann-farooq/Data-Analysis-Journey/blob/main/NumPy.ipynb\" target=\"_parent\"><img src=\"https://colab.research.google.com/assets/colab-badge.svg\" alt=\"Open In Colab\"/></a>"
      ]
    },
    {
      "cell_type": "markdown",
      "source": [
        "### Importing Numpy"
      ],
      "metadata": {
        "id": "QhhchXYcO6qS"
      }
    },
    {
      "cell_type": "code",
      "execution_count": null,
      "metadata": {
        "id": "g_eGTxHj7i3j"
      },
      "outputs": [],
      "source": [
        "import numpy as np"
      ]
    },
    {
      "cell_type": "markdown",
      "source": [
        "### Creating NumPy Array"
      ],
      "metadata": {
        "id": "XUYT-pcFO-Jq"
      }
    },
    {
      "cell_type": "code",
      "source": [
        "arr = np.array([1, 2, 3, 4, 5])\n",
        "print(arr)\n",
        "type(arr)"
      ],
      "metadata": {
        "colab": {
          "base_uri": "https://localhost:8080/"
        },
        "id": "hYnnd-luNysm",
        "outputId": "987dbcaf-0f19-47ee-e080-75add2fa12bd"
      },
      "execution_count": null,
      "outputs": [
        {
          "output_type": "stream",
          "name": "stdout",
          "text": [
            "[1 2 3 4 5]\n"
          ]
        },
        {
          "output_type": "execute_result",
          "data": {
            "text/plain": [
              "numpy.ndarray"
            ]
          },
          "metadata": {},
          "execution_count": 2
        }
      ]
    },
    {
      "cell_type": "markdown",
      "source": [
        "## Dimensions In Array"
      ],
      "metadata": {
        "id": "LS0IXre_PCMP"
      }
    },
    {
      "cell_type": "markdown",
      "source": [
        "#### Zero Dimension Array"
      ],
      "metadata": {
        "id": "_RbkxDB-PXCk"
      }
    },
    {
      "cell_type": "code",
      "source": [
        "zeroArr = np.array(20)\n",
        "print(zeroArr)\n",
        "#using ndim to view the dimension of the array}\n",
        "print(zeroArr.ndim)"
      ],
      "metadata": {
        "colab": {
          "base_uri": "https://localhost:8080/"
        },
        "id": "3b9dYfHSN-DL",
        "outputId": "0998c7ae-cf13-49c0-839f-33088d6e4f09"
      },
      "execution_count": null,
      "outputs": [
        {
          "output_type": "stream",
          "name": "stdout",
          "text": [
            "20\n",
            "0\n"
          ]
        }
      ]
    },
    {
      "cell_type": "markdown",
      "source": [
        "#### 1D Array"
      ],
      "metadata": {
        "id": "JEPj-0G8Pqcl"
      }
    },
    {
      "cell_type": "code",
      "source": [
        "oneDarr = np.array([10, 20, 30])\n",
        "print(oneDarr)\n",
        "print(oneDarr.ndim)"
      ],
      "metadata": {
        "colab": {
          "base_uri": "https://localhost:8080/"
        },
        "id": "PxS6nt1DPpQB",
        "outputId": "41133920-9b28-400c-d00f-3a84aa901a7d"
      },
      "execution_count": null,
      "outputs": [
        {
          "output_type": "stream",
          "name": "stdout",
          "text": [
            "[10 20 30]\n",
            "1\n"
          ]
        }
      ]
    },
    {
      "cell_type": "markdown",
      "source": [
        "### 2D Array"
      ],
      "metadata": {
        "id": "FAY_ePWpRecB"
      }
    },
    {
      "cell_type": "code",
      "source": [
        "twoDarr = np.array([[10,20,30],[40,50,60]])\n",
        "print(twoDarr)\n",
        "print(twoDarr.ndim)"
      ],
      "metadata": {
        "colab": {
          "base_uri": "https://localhost:8080/"
        },
        "id": "ahGWj3vYRda7",
        "outputId": "e3f6e8f3-22b8-4599-9f94-efe61a55dc30"
      },
      "execution_count": null,
      "outputs": [
        {
          "output_type": "stream",
          "name": "stdout",
          "text": [
            "[[10 20 30]\n",
            " [40 50 60]]\n",
            "2\n"
          ]
        }
      ]
    },
    {
      "cell_type": "markdown",
      "source": [
        "### 3D Array"
      ],
      "metadata": {
        "id": "IeovnalHR3ua"
      }
    },
    {
      "cell_type": "code",
      "source": [
        "threeDarr = np.array([[[10, 20, 30],[40, 50, 60]],[[70, 80, 90], [110, 120, 130]]])\n",
        "print(threeDarr)\n",
        "print(threeDarr.ndim)"
      ],
      "metadata": {
        "colab": {
          "base_uri": "https://localhost:8080/"
        },
        "id": "eQGcDQHbR2zg",
        "outputId": "a294c6e2-6ecb-4205-e340-30d8a8a78fbc"
      },
      "execution_count": null,
      "outputs": [
        {
          "output_type": "stream",
          "name": "stdout",
          "text": [
            "[[[ 10  20  30]\n",
            "  [ 40  50  60]]\n",
            "\n",
            " [[ 70  80  90]\n",
            "  [110 120 130]]]\n",
            "3\n"
          ]
        }
      ]
    },
    {
      "cell_type": "markdown",
      "source": [
        "### Higher Dimensional Array"
      ],
      "metadata": {
        "id": "mE3OPZah3HZy"
      }
    },
    {
      "cell_type": "code",
      "source": [
        "arr = np.array([1,2,3,4,5], ndmin=5)\n",
        "print(arr)\n",
        "print(\"Dimensions of Array: \", arr.ndim)"
      ],
      "metadata": {
        "colab": {
          "base_uri": "https://localhost:8080/"
        },
        "id": "SoCsQtpZ3LTj",
        "outputId": "664537ca-debf-4ef5-e953-72c2d2c654c8"
      },
      "execution_count": null,
      "outputs": [
        {
          "output_type": "stream",
          "name": "stdout",
          "text": [
            "[[[[[1 2 3 4 5]]]]]\n",
            "Dimensions of Array:  5\n"
          ]
        }
      ]
    },
    {
      "cell_type": "markdown",
      "source": [
        "### NumPy Array Indexing"
      ],
      "metadata": {
        "id": "-s_oEyso3g60"
      }
    },
    {
      "cell_type": "code",
      "source": [
        "print('Indexing for 1D Array:')\n",
        "oneDarr = np.array([1, 2, 3, 4, 5])\n",
        "print(oneDarr[0])\n",
        "\n",
        "print('Indexing for 2D Array:')\n",
        "twoDarr = np.array([[1, 2, 3, 4, 5], [6, 7, 8, 9, 10]])\n",
        "print(twoDarr[1,2])\n",
        "\n",
        "print('Indexing for 3D Array:')\n",
        "threeDarr = np.array([[[1, 2, 3, 4, 5], [6, 7, 8, 9, 10]], [[11, 12, 13, 14, 15], [16, 17, 18, 19, 20]]])\n",
        "print(threeDarr[1,0,2])"
      ],
      "metadata": {
        "colab": {
          "base_uri": "https://localhost:8080/"
        },
        "id": "ajcONaV13XW2",
        "outputId": "f1f616af-d33d-42ed-ccf9-e27ba831d5d0"
      },
      "execution_count": null,
      "outputs": [
        {
          "output_type": "stream",
          "name": "stdout",
          "text": [
            "Indexing for 1D Array:\n",
            "1\n",
            "Indexing for 2D Array:\n",
            "8\n",
            "Indexing for 3D Array:\n",
            "13\n"
          ]
        }
      ]
    },
    {
      "cell_type": "markdown",
      "source": [
        "### Adding elements in different dimensional NumPy Array"
      ],
      "metadata": {
        "id": "GYAnd_-09sje"
      }
    },
    {
      "cell_type": "code",
      "source": [
        "# Addition in 1D Array\n",
        "arrOne = np.array([1, 2, 3, 4, 5, 6, 7, 8, 9, 10])\n",
        "print(\"Addition in 1D Array:\", arrOne[0] + arrOne[5])\n",
        "\n",
        "# Addition in 2D Array\n",
        "arrTwo = np.array([[1, 2, 3, 4, 5, 6, 7, 8, 9, 10], [11, 12, 13, 14, 15, 16, 17, 18, 19, 20]])\n",
        "print(\"Addition in 2D Array:\", arrTwo[0, 0] + arrTwo[1, 5])\n",
        "\n",
        "# Addition in 3D Array\n",
        "arrThree = np.array([[[1, 2, 3, 4, 5], [6, 7, 8, 9, 10]], [[11, 12, 13, 14, 15], [16, 17, 18, 19, 20]]])\n",
        "print(\"Addition in 3D Array:\", arrThree[0, 0, 0] + arrThree[1, 1, 0])"
      ],
      "metadata": {
        "colab": {
          "base_uri": "https://localhost:8080/"
        },
        "id": "PAzJWAK731bM",
        "outputId": "7ef61bdd-c501-4ba4-d363-6d9367098686"
      },
      "execution_count": null,
      "outputs": [
        {
          "output_type": "stream",
          "name": "stdout",
          "text": [
            "Addition in 1D Array: 7\n",
            "Addition in 2D Array: 17\n",
            "Addition in 3D Array: 17\n"
          ]
        }
      ]
    },
    {
      "cell_type": "markdown",
      "source": [
        "### Slicing in NumPy Array"
      ],
      "metadata": {
        "id": "U3Wo8R2A4dsc"
      }
    },
    {
      "cell_type": "code",
      "source": [],
      "metadata": {
        "id": "PrQq4tUX-RiB"
      },
      "execution_count": null,
      "outputs": []
    }
  ]
}