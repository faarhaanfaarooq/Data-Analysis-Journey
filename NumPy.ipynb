{
  "nbformat": 4,
  "nbformat_minor": 0,
  "metadata": {
    "colab": {
      "provenance": [],
      "authorship_tag": "ABX9TyM1K14gXMvHpK0paZ2gXLjJ",
      "include_colab_link": true
    },
    "kernelspec": {
      "name": "python3",
      "display_name": "Python 3"
    },
    "language_info": {
      "name": "python"
    }
  },
  "cells": [
    {
      "cell_type": "markdown",
      "metadata": {
        "id": "view-in-github",
        "colab_type": "text"
      },
      "source": [
        "<a href=\"https://colab.research.google.com/github/farhann-farooq/Data-Analysis-Journey/blob/main/NumPy.ipynb\" target=\"_parent\"><img src=\"https://colab.research.google.com/assets/colab-badge.svg\" alt=\"Open In Colab\"/></a>"
      ]
    },
    {
      "cell_type": "markdown",
      "source": [
        "### Importing Numpy"
      ],
      "metadata": {
        "id": "QhhchXYcO6qS"
      }
    },
    {
      "cell_type": "code",
      "execution_count": 10,
      "metadata": {
        "id": "g_eGTxHj7i3j"
      },
      "outputs": [],
      "source": [
        "import numpy as np"
      ]
    },
    {
      "cell_type": "markdown",
      "source": [
        "### Creating NumPy Array"
      ],
      "metadata": {
        "id": "XUYT-pcFO-Jq"
      }
    },
    {
      "cell_type": "code",
      "source": [
        "arr = np.array([1, 2, 3, 4, 5])\n",
        "print(arr)\n",
        "type(arr)"
      ],
      "metadata": {
        "colab": {
          "base_uri": "https://localhost:8080/"
        },
        "id": "hYnnd-luNysm",
        "outputId": "c8954b91-8eeb-4043-892f-4c921baf5298"
      },
      "execution_count": 11,
      "outputs": [
        {
          "output_type": "stream",
          "name": "stdout",
          "text": [
            "[1 2 3 4 5]\n"
          ]
        },
        {
          "output_type": "execute_result",
          "data": {
            "text/plain": [
              "numpy.ndarray"
            ]
          },
          "metadata": {},
          "execution_count": 11
        }
      ]
    },
    {
      "cell_type": "markdown",
      "source": [
        "## Dimensions In Array"
      ],
      "metadata": {
        "id": "LS0IXre_PCMP"
      }
    },
    {
      "cell_type": "markdown",
      "source": [
        "#### Zero Dimension Array"
      ],
      "metadata": {
        "id": "_RbkxDB-PXCk"
      }
    },
    {
      "cell_type": "code",
      "source": [
        "zeroArr = np.array(20)\n",
        "print(zeroArr)\n",
        "#using ndim to view the dimension of the array}\n",
        "print(zeroArr.ndim)"
      ],
      "metadata": {
        "colab": {
          "base_uri": "https://localhost:8080/"
        },
        "id": "3b9dYfHSN-DL",
        "outputId": "3f15dc9b-3d4b-48de-8b07-bca5b746af3e"
      },
      "execution_count": 12,
      "outputs": [
        {
          "output_type": "stream",
          "name": "stdout",
          "text": [
            "20\n",
            "0\n"
          ]
        }
      ]
    },
    {
      "cell_type": "markdown",
      "source": [
        "#### 1D Array"
      ],
      "metadata": {
        "id": "JEPj-0G8Pqcl"
      }
    },
    {
      "cell_type": "code",
      "source": [
        "oneDarr = np.array([10, 20, 30])\n",
        "print(oneDarr)\n",
        "print(oneDarr.ndim)"
      ],
      "metadata": {
        "colab": {
          "base_uri": "https://localhost:8080/"
        },
        "id": "PxS6nt1DPpQB",
        "outputId": "c92d5d41-20c2-47ed-926b-f23959346c90"
      },
      "execution_count": 13,
      "outputs": [
        {
          "output_type": "stream",
          "name": "stdout",
          "text": [
            "[10 20 30]\n",
            "1\n"
          ]
        }
      ]
    },
    {
      "cell_type": "markdown",
      "source": [
        "### 2D Array"
      ],
      "metadata": {
        "id": "FAY_ePWpRecB"
      }
    },
    {
      "cell_type": "code",
      "source": [
        "twoDarr = np.array([[10,20,30],[40,50,60]])\n",
        "print(twoDarr)\n",
        "print(twoDarr.ndim)"
      ],
      "metadata": {
        "colab": {
          "base_uri": "https://localhost:8080/"
        },
        "id": "ahGWj3vYRda7",
        "outputId": "1b00e66c-4017-4b1b-a5d0-797a47c09a7e"
      },
      "execution_count": 14,
      "outputs": [
        {
          "output_type": "stream",
          "name": "stdout",
          "text": [
            "[[10 20 30]\n",
            " [40 50 60]]\n",
            "2\n"
          ]
        }
      ]
    },
    {
      "cell_type": "markdown",
      "source": [
        "### 3D Array"
      ],
      "metadata": {
        "id": "IeovnalHR3ua"
      }
    },
    {
      "cell_type": "code",
      "source": [
        "threeDarr = np.array([[[10, 20, 30],[40, 50, 60]],[[70, 80, 90], [110, 120, 130]]])\n",
        "print(threeDarr)\n",
        "print(threeDarr.ndim)"
      ],
      "metadata": {
        "colab": {
          "base_uri": "https://localhost:8080/"
        },
        "id": "eQGcDQHbR2zg",
        "outputId": "08a61996-5920-40b1-ea51-86cac9817341"
      },
      "execution_count": 15,
      "outputs": [
        {
          "output_type": "stream",
          "name": "stdout",
          "text": [
            "[[[ 10  20  30]\n",
            "  [ 40  50  60]]\n",
            "\n",
            " [[ 70  80  90]\n",
            "  [110 120 130]]]\n",
            "3\n"
          ]
        }
      ]
    },
    {
      "cell_type": "markdown",
      "source": [
        "### Higher Dimensional Array"
      ],
      "metadata": {
        "id": "mE3OPZah3HZy"
      }
    },
    {
      "cell_type": "code",
      "source": [
        "arr = np.array([1,2,3,4,5], ndmin=5)\n",
        "print(arr)\n",
        "print(\"Dimensions of Array: \", arr.ndim)"
      ],
      "metadata": {
        "colab": {
          "base_uri": "https://localhost:8080/"
        },
        "id": "SoCsQtpZ3LTj",
        "outputId": "d8a33b51-6461-4076-ed96-bd4346cb56b7"
      },
      "execution_count": 16,
      "outputs": [
        {
          "output_type": "stream",
          "name": "stdout",
          "text": [
            "[[[[[1 2 3 4 5]]]]]\n",
            "Dimensions of Array:  5\n"
          ]
        }
      ]
    },
    {
      "cell_type": "markdown",
      "source": [
        "### NumPy Array Indexing"
      ],
      "metadata": {
        "id": "-s_oEyso3g60"
      }
    },
    {
      "cell_type": "code",
      "source": [
        "print('Indexing for 1D Array:')\n",
        "oneDarr = np.array([1, 2, 3, 4, 5])\n",
        "print(oneDarr[0])\n",
        "\n",
        "print('Indexing for 2D Array:')\n",
        "twoDarr = np.array([[1, 2, 3, 4, 5], [6, 7, 8, 9, 10]])\n",
        "print(twoDarr[1,2])\n",
        "\n",
        "print('Indexing for 3D Array:')\n",
        "threeDarr = np.array([[[1, 2, 3, 4, 5], [6, 7, 8, 9, 10]], [[11, 12, 13, 14, 15], [16, 17, 18, 19, 20]]])\n",
        "print(threeDarr[1,0,2])"
      ],
      "metadata": {
        "colab": {
          "base_uri": "https://localhost:8080/"
        },
        "id": "ajcONaV13XW2",
        "outputId": "59def989-84d9-4005-f0cf-4846f7d52334"
      },
      "execution_count": 17,
      "outputs": [
        {
          "output_type": "stream",
          "name": "stdout",
          "text": [
            "Indexing for 1D Array:\n",
            "1\n",
            "Indexing for 2D Array:\n",
            "8\n",
            "Indexing for 3D Array:\n",
            "13\n"
          ]
        }
      ]
    },
    {
      "cell_type": "markdown",
      "source": [
        "### Adding elements in different dimensional NumPy Array"
      ],
      "metadata": {
        "id": "GYAnd_-09sje"
      }
    },
    {
      "cell_type": "code",
      "source": [
        "# Addition in 1D Array\n",
        "arrOne = np.array([1, 2, 3, 4, 5, 6, 7, 8, 9, 10])\n",
        "print(\"Addition in 1D Array:\", arrOne[0] + arrOne[5])\n",
        "\n",
        "# Addition in 2D Array\n",
        "arrTwo = np.array([[1, 2, 3, 4, 5, 6, 7, 8, 9, 10], [11, 12, 13, 14, 15, 16, 17, 18, 19, 20]])\n",
        "print(\"Addition in 2D Array:\", arrTwo[0, 0] + arrTwo[1, 5])\n",
        "\n",
        "# Addition in 3D Array\n",
        "arrThree = np.array([[[1, 2, 3, 4, 5], [6, 7, 8, 9, 10]], [[11, 12, 13, 14, 15], [16, 17, 18, 19, 20]]])\n",
        "print(\"Addition in 3D Array:\", arrThree[0, 0, 0] + arrThree[1, 1, 0])"
      ],
      "metadata": {
        "colab": {
          "base_uri": "https://localhost:8080/"
        },
        "id": "PAzJWAK731bM",
        "outputId": "31107fd0-331f-4914-e183-5f5a485babee"
      },
      "execution_count": 18,
      "outputs": [
        {
          "output_type": "stream",
          "name": "stdout",
          "text": [
            "Addition in 1D Array: 7\n",
            "Addition in 2D Array: 17\n",
            "Addition in 3D Array: 17\n"
          ]
        }
      ]
    },
    {
      "cell_type": "markdown",
      "source": [
        "### Slicing in NumPy Array\n",
        "\n",
        "\n",
        "---\n",
        "\n",
        "#### 1D Array"
      ],
      "metadata": {
        "id": "L3Q1LNJCV4r2"
      }
    },
    {
      "cell_type": "code",
      "source": [
        "x = np.array([1, 2, 3, 4, 5, 6, 7, 8, 9, 10])\n",
        "print(x)\n",
        "print(x[0:5])"
      ],
      "metadata": {
        "colab": {
          "base_uri": "https://localhost:8080/"
        },
        "outputId": "3fc94379-7741-4e13-d020-938353b8c68a",
        "id": "sJByThbaV4r4"
      },
      "execution_count": 19,
      "outputs": [
        {
          "output_type": "stream",
          "name": "stdout",
          "text": [
            "[ 1  2  3  4  5  6  7  8  9 10]\n",
            "[1 2 3 4 5]\n"
          ]
        }
      ]
    },
    {
      "cell_type": "markdown",
      "source": [
        "#### 2D Array"
      ],
      "metadata": {
        "id": "ugLJWqN38Lsz"
      }
    },
    {
      "cell_type": "code",
      "source": [
        "y = np.array([[1, 2, 3, 4, 5], [6, 7, 8, 9, 10]])\n",
        "print(y)\n",
        "print(y[1, 0:4])"
      ],
      "metadata": {
        "colab": {
          "base_uri": "https://localhost:8080/"
        },
        "id": "i7_Jg2pv8QVU",
        "outputId": "dd446aae-0140-46c0-c6cb-4cb20d293ff3"
      },
      "execution_count": 20,
      "outputs": [
        {
          "output_type": "stream",
          "name": "stdout",
          "text": [
            "[[ 1  2  3  4  5]\n",
            " [ 6  7  8  9 10]]\n",
            "[6 7 8 9]\n"
          ]
        }
      ]
    },
    {
      "cell_type": "markdown",
      "source": [
        "#### 3D Array"
      ],
      "metadata": {
        "id": "gk0OfKky_uvk"
      }
    },
    {
      "cell_type": "code",
      "source": [
        "z = np.array([[[1, 2, 3, 4, 5], [6, 7, 8, 9, 10]], [[11, 12, 13, 14, 15], [16, 17, 18, 19, 20]]])\n",
        "print(z)\n",
        "print(z[1, 0, 0:4])"
      ],
      "metadata": {
        "colab": {
          "base_uri": "https://localhost:8080/"
        },
        "id": "9a_I9jfT_0Qb",
        "outputId": "03dfcb6c-cf8d-4ca2-800f-32b15066ef1e"
      },
      "execution_count": 21,
      "outputs": [
        {
          "output_type": "stream",
          "name": "stdout",
          "text": [
            "[[[ 1  2  3  4  5]\n",
            "  [ 6  7  8  9 10]]\n",
            "\n",
            " [[11 12 13 14 15]\n",
            "  [16 17 18 19 20]]]\n",
            "[11 12 13 14]\n"
          ]
        }
      ]
    },
    {
      "cell_type": "markdown",
      "source": [
        "### Checking the data type of an Array"
      ],
      "metadata": {
        "id": "kdfTsxB6AYPO"
      }
    },
    {
      "cell_type": "code",
      "source": [
        "arr = np.array([1, 2, 3, 4, 5, 6, 7])\n",
        "print(arr)\n",
        "print(arr.dtype)"
      ],
      "metadata": {
        "colab": {
          "base_uri": "https://localhost:8080/"
        },
        "id": "_pphWkNZACMz",
        "outputId": "0ce696f7-3c49-485a-da68-db274ec1800f"
      },
      "execution_count": 22,
      "outputs": [
        {
          "output_type": "stream",
          "name": "stdout",
          "text": [
            "[1 2 3 4 5 6 7]\n",
            "int64\n"
          ]
        }
      ]
    },
    {
      "cell_type": "markdown",
      "source": [
        "### Creating array with predefined data type"
      ],
      "metadata": {
        "id": "KoFShlwcDo1e"
      }
    },
    {
      "cell_type": "code",
      "source": [
        "arr = np.array([1, 2, 3, 4, 5], dtype = 'S')\n",
        "print(arr)\n",
        "print(arr.dtype)"
      ],
      "metadata": {
        "colab": {
          "base_uri": "https://localhost:8080/"
        },
        "id": "DwyS8eKaDbzh",
        "outputId": "26d204dc-94ac-497a-b208-ff082db5644f"
      },
      "execution_count": 23,
      "outputs": [
        {
          "output_type": "stream",
          "name": "stdout",
          "text": [
            "[b'1' b'2' b'3' b'4' b'5']\n",
            "|S1\n"
          ]
        }
      ]
    },
    {
      "cell_type": "markdown",
      "source": [
        "### Numpy Array Shape\n",
        "\n",
        "\n",
        "---\n",
        "\n",
        "The shape of an array is the number of elements in each dimension"
      ],
      "metadata": {
        "id": "kD8F80iwD8eo"
      }
    },
    {
      "cell_type": "code",
      "source": [
        "# 1D Array\n",
        "arr1 = np.array([1, 2, 3, 4, 5, 6])\n",
        "print(arr1.shape)\n",
        "\n",
        "# 2D Array\n",
        "arr2 = np.array([[1, 2, 3, 4, 5], [6, 7, 8, 9, 10]])\n",
        "print(arr2.shape)\n",
        "\n",
        "# 3D Array\n",
        "arr3 = np.array([[[1, 2, 3, 4, 5], [6, 7, 8, 9, 10]], [[11, 12, 13, 14, 15], [16, 17, 18, 19, 20]]])\n",
        "print(arr3.shape)"
      ],
      "metadata": {
        "colab": {
          "base_uri": "https://localhost:8080/"
        },
        "id": "UvFaidLbD12r",
        "outputId": "7aaef168-1542-4d84-d83e-86f66e5c30c8"
      },
      "execution_count": 24,
      "outputs": [
        {
          "output_type": "stream",
          "name": "stdout",
          "text": [
            "(6,)\n",
            "(2, 5)\n",
            "(2, 2, 5)\n"
          ]
        }
      ]
    },
    {
      "cell_type": "markdown",
      "source": [
        "### Joining NumPy Array"
      ],
      "metadata": {
        "id": "fmgtTCAYHgQ-"
      }
    },
    {
      "cell_type": "code",
      "source": [
        "# 1D Array\n",
        "a = np.array([1, 2, 3, 4])\n",
        "b = np.array([5, 6, 7, 8])\n",
        "print(np.concatenate((a, b)))\n",
        "\n",
        "#2D Array\n",
        "x = np.array([[1, 2], [3, 4]])\n",
        "y = np.array([[5, 6], [7, 8]])\n",
        "print(np.concatenate((x, y), axis = 0))"
      ],
      "metadata": {
        "colab": {
          "base_uri": "https://localhost:8080/"
        },
        "id": "EiirXNTmGzKt",
        "outputId": "995300f9-44f1-498d-ad4f-af2f2c1bf22d"
      },
      "execution_count": 25,
      "outputs": [
        {
          "output_type": "stream",
          "name": "stdout",
          "text": [
            "[1 2 3 4 5 6 7 8]\n",
            "[[1 2]\n",
            " [3 4]\n",
            " [5 6]\n",
            " [7 8]]\n"
          ]
        }
      ]
    },
    {
      "cell_type": "markdown",
      "source": [
        "### Splitting Array"
      ],
      "metadata": {
        "id": "dSLUFMl_U6iy"
      }
    },
    {
      "cell_type": "code",
      "source": [
        "arr = np.array([1, 2, 3, 4, 5, 6])\n",
        "newarr = np.array_split(arr, 3)\n",
        "print(newarr)"
      ],
      "metadata": {
        "colab": {
          "base_uri": "https://localhost:8080/"
        },
        "id": "mlJwRliIQ9fz",
        "outputId": "3870a8dc-8603-401a-8dcb-a1e700ab7fff"
      },
      "execution_count": 26,
      "outputs": [
        {
          "output_type": "stream",
          "name": "stdout",
          "text": [
            "[array([1, 2]), array([3, 4]), array([5, 6])]\n"
          ]
        }
      ]
    },
    {
      "cell_type": "markdown",
      "source": [
        "### Converting Multidimensional Array Into 1D Array"
      ],
      "metadata": {
        "id": "3qOsJx5VN1Js"
      }
    },
    {
      "cell_type": "code",
      "source": [
        "x = np.array([[[1, 2, 3, 4, 5], [6, 7, 8, 9, 10]]])\n",
        "print(x)\n",
        "a = x.flatten() # or use x.ravel()\n",
        "print(a)"
      ],
      "metadata": {
        "id": "ek5yHKakU31t",
        "colab": {
          "base_uri": "https://localhost:8080/"
        },
        "outputId": "e8f2964f-9058-4529-acd1-df84b3dd3312"
      },
      "execution_count": 27,
      "outputs": [
        {
          "output_type": "stream",
          "name": "stdout",
          "text": [
            "[[[ 1  2  3  4  5]\n",
            "  [ 6  7  8  9 10]]]\n",
            "[ 1  2  3  4  5  6  7  8  9 10]\n"
          ]
        }
      ]
    },
    {
      "cell_type": "markdown",
      "source": [
        "### Unique Function"
      ],
      "metadata": {
        "id": "ib2Xk7l-PDGN"
      }
    },
    {
      "cell_type": "code",
      "source": [
        "x = np.array([4, 1, 8, 1, 3, 2, 9, 6, 6, 10, 2, 3, 7, 5, 3, 7, 8, 9, 10])\n",
        "a = np.unique(x, return_index = True, return_counts = True)\n",
        "print(a)"
      ],
      "metadata": {
        "colab": {
          "base_uri": "https://localhost:8080/"
        },
        "id": "WuKxL6e0Oui8",
        "outputId": "5bdf56a8-fe2a-45be-ab70-cdac33d0c84a"
      },
      "execution_count": 28,
      "outputs": [
        {
          "output_type": "stream",
          "name": "stdout",
          "text": [
            "(array([ 1,  2,  3,  4,  5,  6,  7,  8,  9, 10]), array([ 1,  5,  4,  0, 13,  7, 12,  2,  6,  9]), array([2, 2, 3, 1, 1, 2, 2, 2, 2, 2]))\n"
          ]
        }
      ]
    },
    {
      "cell_type": "markdown",
      "source": [
        "### Delete"
      ],
      "metadata": {
        "id": "2YUtpHcdTLGD"
      }
    },
    {
      "cell_type": "code",
      "source": [
        "x = np.array([[1, 2, 3, 4, 5], [6, 7, 8, 9, 10], [11, 12, 13, 14, 15]])\n",
        "a = np.delete(x, 0, axis = 0)\n",
        "print(a)"
      ],
      "metadata": {
        "colab": {
          "base_uri": "https://localhost:8080/"
        },
        "id": "SNUFWVEDSIvK",
        "outputId": "daedea26-4eb8-41fc-e94b-2a2cf98dd09a"
      },
      "execution_count": 29,
      "outputs": [
        {
          "output_type": "stream",
          "name": "stdout",
          "text": [
            "[[ 6  7  8  9 10]\n",
            " [11 12 13 14 15]]\n"
          ]
        }
      ]
    }
  ]
}